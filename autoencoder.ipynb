{
 "cells": [
  {
   "cell_type": "code",
   "execution_count": null,
   "metadata": {},
   "outputs": [
    {
     "name": "stderr",
     "output_type": "stream",
     "text": [
      "Using TensorFlow backend.\n"
     ]
    }
   ],
   "source": [
    "import numpy as np\n",
    "from keras.datasets import mnist\n",
    "from keras.models import Model\n",
    "from keras.layers import Input, Dense\n",
    "from keras.utils import np_utils\n",
    "from keras import backend as K\n",
    "\n",
    "from keras import callbacks\n",
    "from multiprocessing import Pool \n",
    "from multiprocessing.dummy import Pool as ThreadPool \n",
    "import tensorflow as tf\n",
    "import pdb\n",
    "from matplotlib import pyplot as plt\n",
    "%matplotlib inline"
   ]
  },
  {
   "cell_type": "code",
   "execution_count": null,
   "metadata": {
    "collapsed": true
   },
   "outputs": [],
   "source": [
    "input_unit_size = 28*28\n",
    "(x_train, y_train), (x_test, y_test) = mnist.load_data()"
   ]
  },
  {
   "cell_type": "code",
   "execution_count": null,
   "metadata": {
    "collapsed": true
   },
   "outputs": [],
   "source": [
    "def draw_digit(data, row, col, n):\n",
    "    size = int(np.sqrt(data.shape[0]))\n",
    "    plt.subplot(row, col, n)    \n",
    "    plt.imshow(data.reshape(size, size))\n",
    "    plt.gray()"
   ]
  },
  {
   "cell_type": "code",
   "execution_count": null,
   "metadata": {
    "collapsed": true
   },
   "outputs": [],
   "source": [
    "x_train = x_train.reshape(x_train.shape[0], input_unit_size)\n",
    "x_train = x_train.astype('float32')\n",
    "x_train /= 255"
   ]
  },
  {
   "cell_type": "code",
   "execution_count": null,
   "metadata": {},
   "outputs": [],
   "source": [
    "input_unit_size"
   ]
  },
  {
   "cell_type": "code",
   "execution_count": null,
   "metadata": {
    "collapsed": true
   },
   "outputs": [],
   "source": [
    "weight_folder = \"weight_history_better/\""
   ]
  },
  {
   "cell_type": "code",
   "execution_count": null,
   "metadata": {
    "run_control": {
     "marked": true
    },
    "scrolled": true
   },
   "outputs": [],
   "source": [
    "wich_steps = list(range(0, 800, 50))\n",
    "epochs = 2\n",
    "class WeightHistory(callbacks.Callback):\n",
    "    def  __init__(self, exp):\n",
    "        self.exp = exp\n",
    "        self.epoch = 1\n",
    "        self.max_epochs = epochs\n",
    "        self.step = 0\n",
    "        \n",
    "    def on_epoch_end(self, epoch, logs={}): \n",
    "        self.step = 0\n",
    "        self.epoch += 1\n",
    "        return \n",
    "\n",
    "    def on_batch_end(self, batch, logs={}):\n",
    "        \n",
    "        if self.step in wich_steps:\n",
    "            \n",
    "            list_connections = self.model.layers[1].get_weights()[0].flatten()\n",
    "            m = np.reshape(list_connections, (336, 336))\n",
    "            filename_weights = \"{}/weight_epoch={}_ensemble={}_step={}.txt\".format(weight_folder, self.epoch, self.exp, self.step)\n",
    "            np.savetxt(filename_weights, m)\n",
    "\n",
    "            #filename_eigvals = \"{}/eigvals_epoch={}_ensemble={}_step={}.txt\".format(weight_folder, self.epoch, self.exp, self.step)\n",
    "            #eigvals = np.linalg.eigvals(m )\n",
    "            #np.savetxt(filename_eigvals, eigvals.view(float))\n",
    "    \n",
    "            get_layer_output = K.function([model.layers[0].input],\n",
    "                                          [model.layers[1].output])\n",
    "            hidden_outputs = get_layer_output([x_train[0:show_size**2]])[0]\n",
    "            size = int(np.sqrt(hidden_outputs[1].shape[0]))\n",
    "            \n",
    "            filename_hidden = \"{}/hidden_ensemble={}_epoch={}_step={}.txt\".format(weight_folder, self.epoch, self.exp, self.step)\n",
    "            np.savetxt(filename_hidden, hidden_outputs[1].reshape(size, size))\n",
    "            \n",
    "            \n",
    "        self.step +=1\n",
    "        return\n",
    "\n",
    "\n",
    "def create_exp(i):\n",
    "    inputs = Input(shape=(input_unit_size,))\n",
    "    x = Dense(144, activation='relu')(inputs)\n",
    "    outputs = Dense(input_unit_size)(x)\n",
    "    model = Model(input=inputs, output=outputs)\n",
    "    \n",
    "    #model.compile(loss=custom_objective, optimizer='adadelta', )\n",
    "    model.compile(loss='binary_crossentropy', optimizer='adadelta', )\n",
    "\n",
    "    model.fit(x_train, x_train, epochs=2,  batch_size=256, callbacks=[WeightHistory(i)],verbose=0  )\n",
    "    #return model\n",
    "\n",
    "\n",
    "\n",
    "\n",
    " #get_layer_output = K.function([model.layers[0].input],\n",
    "#                              [model.layers[1].output])\n",
    "\n",
    "#hidden_outputs = get_layer_output([x_train[0:show_size**2]])[0]\n",
    "\n"
   ]
  },
  {
   "cell_type": "code",
   "execution_count": null,
   "metadata": {},
   "outputs": [],
   "source": [
    "pool = Pool()\n",
    "pool.map(create_exp, range(0, 100))\n",
    "pool.close() \n",
    "pool.join()"
   ]
  },
  {
   "cell_type": "code",
   "execution_count": null,
   "metadata": {},
   "outputs": [],
   "source": [
    "# raw image\n",
    "\n",
    "show_size = 10\n",
    "total = 0\n",
    "plt.figure(figsize=(20, 20))\n",
    "for i in range(show_size):\n",
    "    for j in range(show_size):    \n",
    "        draw_digit(x_train[total], show_size, show_size, total+1)\n",
    "        total+=1\n",
    "plt.show()"
   ]
  },
  {
   "cell_type": "code",
   "execution_count": null,
   "metadata": {},
   "outputs": [],
   "source": [
    "# hidden\n",
    "get_layer_output = K.function([model.layers[0].input],\n",
    "                              [model.layers[1].output])\n",
    "\n",
    "hidden_outputs = get_layer_output([x_train[0:show_size**2]])[0]\n",
    "\n",
    "total = 0\n",
    "plt.figure(figsize=(20, 20))\n",
    "for i in range(show_size):\n",
    "    for j in range(show_size):    \n",
    "        draw_digit(hidden_outputs[total], show_size, show_size, total+1)\n",
    "        total+=1\n",
    "plt.show()"
   ]
  },
  {
   "cell_type": "code",
   "execution_count": null,
   "metadata": {
    "scrolled": true
   },
   "outputs": [],
   "source": [
    "# reconstruct image\n",
    "get_layer_output = K.function([model.layers[0].input],\n",
    "                              [model.layers[2].output])\n",
    "\n",
    "last_outputs = get_layer_output([x_train[0:show_size**2]])[0]\n",
    "\n",
    "total = 0\n",
    "plt.figure(figsize=(20, 20))\n",
    "for i in range(show_size):\n",
    "    for j in range(show_size):    \n",
    "        draw_digit(last_outputs[total], show_size, show_size, total+1)\n",
    "        total+=1\n",
    "plt.show()"
   ]
  },
  {
   "cell_type": "code",
   "execution_count": null,
   "metadata": {
    "collapsed": true
   },
   "outputs": [],
   "source": []
  }
 ],
 "metadata": {
  "hide_input": false,
  "kernelspec": {
   "display_name": "Python 3",
   "language": "python",
   "name": "python3"
  },
  "language_info": {
   "codemirror_mode": {
    "name": "ipython",
    "version": 3
   },
   "file_extension": ".py",
   "mimetype": "text/x-python",
   "name": "python",
   "nbconvert_exporter": "python",
   "pygments_lexer": "ipython3",
   "version": "3.5.2"
  },
  "latex_envs": {
   "LaTeX_envs_menu_present": true,
   "bibliofile": "biblio.bib",
   "cite_by": "apalike",
   "current_citInitial": 1,
   "eqLabelWithNumbers": true,
   "eqNumInitial": 1,
   "labels_anchors": false,
   "latex_user_defs": false,
   "report_style_numbering": false,
   "user_envs_cfg": false
  },
  "toc": {
   "colors": {
    "hover_highlight": "#DAA520",
    "running_highlight": "#FF0000",
    "selected_highlight": "#FFD700"
   },
   "moveMenuLeft": true,
   "nav_menu": {
    "height": "12px",
    "width": "252px"
   },
   "navigate_menu": true,
   "number_sections": true,
   "sideBar": true,
   "threshold": 4,
   "toc_cell": false,
   "toc_section_display": "block",
   "toc_window_display": false
  }
 },
 "nbformat": 4,
 "nbformat_minor": 1
}

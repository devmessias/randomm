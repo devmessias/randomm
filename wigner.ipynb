{
 "cells": [
  {
   "cell_type": "code",
   "execution_count": 36,
   "metadata": {
    "autoscroll": false,
    "collapsed": false,
    "ein.tags": "worksheet-0",
    "slideshow": {
     "slide_type": "-"
    }
   },
   "outputs": [],
   "source": [
    "%matplotlib inline\n",
    "import numpy as np\n",
    "from  matplotlib import pyplot as plt "
   ]
  },
  {
   "cell_type": "code",
   "execution_count": 37,
   "metadata": {
    "autoscroll": false,
    "collapsed": false,
    "ein.tags": "worksheet-0",
    "slideshow": {
     "slide_type": "-"
    }
   },
   "outputs": [],
   "source": [
    "def get_matrix(dim):\n",
    "    '''\n",
    "    Parameters:\n",
    "        dim <int> dimension of matrix\n",
    "    Return:\n",
    "        m <array((dim, <float>), (dim, <float>))>\n",
    "    '''\n",
    "    m = np.random.standard_normal((dim, dim))\n",
    "    m = m + m.T\n",
    "    return m"
   ]
  },
  {
   "cell_type": "code",
   "execution_count": 38,
   "metadata": {
    "autoscroll": false,
    "collapsed": false,
    "ein.tags": "worksheet-0",
    "slideshow": {
     "slide_type": "-"
    }
   },
   "outputs": [],
   "source": [
    "def get_ensemble(num, dim):\n",
    "    '''\n",
    "    Parameters:\n",
    "        num <int>  size of ensemble\n",
    "        dim <int> dimension of matrix\n",
    "    Return:\n",
    "        ensemble <list(num, <array((dim, <float>), (dim, <float>))>)>\n",
    "    '''\n",
    "    ensemble = map(lambda i: get_matrix(dim) , range(num))\n",
    "    return ensemble\n",
    "\n"
   ]
  },
  {
   "cell_type": "code",
   "execution_count": 130,
   "metadata": {
    "collapsed": false
   },
   "outputs": [],
   "source": [
    "def get_center_eigenvalues_differences(ensemble, dim):\n",
    "    '''\n",
    "    Parameters:\n",
    "        ensemble <list(num, <array((dim, <float>), (dim, <float>))>)>\n",
    "        dim <int> dimension of matrix\n",
    "    Return:\n",
    "        center_list <list(num, <float>)>\n",
    "    '''\n",
    "    num_matrices = len(ensemble)\n",
    "    center_list = np.array([])\n",
    "    for m in ensemble:\n",
    "        vals = np.sort(np.linalg.eigvals(m))\n",
    "        center_list = np.append(center_list, [vals[dim//2] - vals[dim//2-1]])\n",
    "\n",
    "    return center_list"
   ]
  },
  {
   "cell_type": "code",
   "execution_count": 66,
   "metadata": {
    "collapsed": false
   },
   "outputs": [
    {
     "data": {
      "text/plain": [
       "[<matplotlib.lines.Line2D at 0x7f0dec22e588>]"
      ]
     },
     "execution_count": 66,
     "metadata": {},
     "output_type": "execute_result"
    },
    {
     "data": {
      "image/png": "[encoded data removed]",
      "text/plain": [
       "<matplotlib.figure.Figure at 0x7f0dec27d8d0>"
      ]
     },
     "metadata": {},
     "output_type": "display_data"
    }
   ],
   "source": [
    "get_wigner = lambda l: (np.pi*l/2)*np.exp(-np.pi*l**2./4.)\n",
    "ls = np.linspace(0, 4, 1000)\n",
    "plt.plot(ls, [get_wigner(l) for l in ls])"
   ]
  },
  {
   "cell_type": "code",
   "execution_count": 131,
   "metadata": {
    "collapsed": false
   },
   "outputs": [],
   "source": [
    "def compare_wigner(num, dim, bins=30):\n",
    "    '''\n",
    "    Parameters:\n",
    "        num <int> size of ensemble\n",
    "        dim <int> dimension of matrix\n",
    "        bin <int> histogram bin\n",
    "\n",
    "    Return:\n",
    "        return <figure>\n",
    "    '''\n",
    "    fig, ax1 = plt.subplots(1, 1)\n",
    "    \n",
    "    ensemble = get_ensemble(num, dim)\n",
    "    center_list = get_center_eigenvalues_differences(list(ensemble), dim)\n",
    "    \n",
    "    ls = np.sort(center_list.real)\n",
    "    norm_diffs = ls/np.mean(ls)\n",
    "    \n",
    "    xs, bins, p = ax1.hist(norm_diffs, bins=bins, normed=1)\n",
    "    heights_wigner = [get_wigner(l) for l in ls]\n",
    "    ax1.plot(ls, heights_wigner, linewidth=3, c=\"r\")\n",
    "    \n",
    "    plt.show()\n",
    "    return fig\n"
   ]
  },
  {
   "cell_type": "code",
   "execution_count": 133,
   "metadata": {
    "collapsed": false
   },
   "outputs": [
    {
     "data": {
      "image/png": "[encoded data removed]",
      "text/plain": [
       "<matplotlib.figure.Figure at 0x7f0dec2caf28>"
      ]
     },
     "metadata": {},
     "output_type": "display_data"
    }
   ],
   "source": [
    "fig = compare_wigner(1000, 20)"
   ]
  },
  {
   "cell_type": "code",
   "execution_count": null,
   "metadata": {
    "collapsed": true
   },
   "outputs": [],
   "source": []
  }
 ],
 "metadata": {
  "hide_input": false,
  "kernelspec": {
   "display_name": "Python 3",
   "language": "python",
   "name": "python3"
  },
  "language_info": {
   "codemirror_mode": {
    "name": "ipython",
    "version": 3
   },
   "file_extension": ".py",
   "mimetype": "text/x-python",
   "name": "python",
   "nbconvert_exporter": "python",
   "pygments_lexer": "ipython3",
   "version": "3.5.2"
  },
  "latex_envs": {
   "LaTeX_envs_menu_present": true,
   "bibliofile": "biblio.bib",
   "cite_by": "apalike",
   "current_citInitial": 1,
   "eqLabelWithNumbers": true,
   "eqNumInitial": 1,
   "labels_anchors": false,
   "latex_user_defs": false,
   "report_style_numbering": false,
   "user_envs_cfg": false
  },
  "name": "main.ipynb",
  "toc": {
   "colors": {
    "hover_highlight": "#DAA520",
    "running_highlight": "#FF0000",
    "selected_highlight": "#FFD700"
   },
   "moveMenuLeft": true,
   "nav_menu": {
    "height": "12px",
    "width": "252px"
   },
   "navigate_menu": true,
   "number_sections": true,
   "sideBar": true,
   "threshold": 4,
   "toc_cell": false,
   "toc_section_display": "block",
   "toc_window_display": false
  }
 },
 "nbformat": 4,
 "nbformat_minor": 2
}
